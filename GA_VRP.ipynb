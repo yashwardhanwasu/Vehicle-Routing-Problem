{
  "nbformat": 4,
  "nbformat_minor": 0,
  "metadata": {
    "colab": {
      "provenance": []
    },
    "kernelspec": {
      "name": "python3",
      "display_name": "Python 3"
    },
    "language_info": {
      "name": "python"
    }
  },
  "cells": [
    {
      "cell_type": "code",
      "execution_count": null,
      "metadata": {
        "colab": {
          "base_uri": "https://localhost:8080/"
        },
        "id": "OzUj3uhPBJEs",
        "outputId": "1d506419-272f-457c-e079-bdb42ac79460"
      },
      "outputs": [
        {
          "output_type": "stream",
          "name": "stdout",
          "text": [
            "Requirement already satisfied: matplotlib in /usr/local/lib/python3.10/dist-packages (3.7.1)\n",
            "Requirement already satisfied: deap in /usr/local/lib/python3.10/dist-packages (1.4.1)\n",
            "Requirement already satisfied: contourpy>=1.0.1 in /usr/local/lib/python3.10/dist-packages (from matplotlib) (1.2.1)\n",
            "Requirement already satisfied: cycler>=0.10 in /usr/local/lib/python3.10/dist-packages (from matplotlib) (0.12.1)\n",
            "Requirement already satisfied: fonttools>=4.22.0 in /usr/local/lib/python3.10/dist-packages (from matplotlib) (4.53.1)\n",
            "Requirement already satisfied: kiwisolver>=1.0.1 in /usr/local/lib/python3.10/dist-packages (from matplotlib) (1.4.5)\n",
            "Requirement already satisfied: numpy>=1.20 in /usr/local/lib/python3.10/dist-packages (from matplotlib) (1.26.4)\n",
            "Requirement already satisfied: packaging>=20.0 in /usr/local/lib/python3.10/dist-packages (from matplotlib) (24.1)\n",
            "Requirement already satisfied: pillow>=6.2.0 in /usr/local/lib/python3.10/dist-packages (from matplotlib) (9.4.0)\n",
            "Requirement already satisfied: pyparsing>=2.3.1 in /usr/local/lib/python3.10/dist-packages (from matplotlib) (3.1.2)\n",
            "Requirement already satisfied: python-dateutil>=2.7 in /usr/local/lib/python3.10/dist-packages (from matplotlib) (2.8.2)\n",
            "Requirement already satisfied: six>=1.5 in /usr/local/lib/python3.10/dist-packages (from python-dateutil>=2.7->matplotlib) (1.16.0)\n"
          ]
        }
      ],
      "source": [
        "!pip install matplotlib deap"
      ]
    },
    {
      "cell_type": "code",
      "source": [
        "import random\n",
        "import numpy as np\n",
        "import matplotlib.pyplot as plt\n",
        "from deap import base, creator, tools, algorithms"
      ],
      "metadata": {
        "id": "SlhJSFB6BZCo"
      },
      "execution_count": null,
      "outputs": []
    },
    {
      "cell_type": "code",
      "source": [
        "num_locations = 20\n",
        "locations = [(random.randint(0, 100), random.randint(0, 100)) for i in range(num_locations)]\n",
        "depot = (50, 50)\n",
        "num_vehicles = 3"
      ],
      "metadata": {
        "id": "NTdm2RPnBZKx"
      },
      "execution_count": null,
      "outputs": []
    },
    {
      "cell_type": "code",
      "source": [
        "# Genetic Algorithm setup\n",
        "creator.create(\"FitnessMin\", base.Fitness, weights = (-1.0, -1.0))\n",
        "creator.create(\"Individual\", list, fitness = creator.FitnessMin)"
      ],
      "metadata": {
        "id": "u9HkEY1CBZOK",
        "colab": {
          "base_uri": "https://localhost:8080/"
        },
        "outputId": "f6720822-1439-491c-85e9-3d532563b657"
      },
      "execution_count": null,
      "outputs": [
        {
          "output_type": "stream",
          "name": "stderr",
          "text": [
            "/usr/local/lib/python3.10/dist-packages/deap/creator.py:185: RuntimeWarning: A class named 'FitnessMin' has already been created and it will be overwritten. Consider deleting previous creation of that class or rename it.\n",
            "  warnings.warn(\"A class named '{0}' has already been created and it \"\n",
            "/usr/local/lib/python3.10/dist-packages/deap/creator.py:185: RuntimeWarning: A class named 'Individual' has already been created and it will be overwritten. Consider deleting previous creation of that class or rename it.\n",
            "  warnings.warn(\"A class named '{0}' has already been created and it \"\n"
          ]
        }
      ]
    },
    {
      "cell_type": "code",
      "source": [
        "toolbox = base.Toolbox()\n",
        "toolbox.register(\"indices\", random.sample, range(num_locations), num_locations)\n",
        "toolbox.register(\"individual\", tools.initIterate, creator.Individual, toolbox.indices)\n",
        "toolbox.register(\"population\", tools.initRepeat, list, toolbox.individual)"
      ],
      "metadata": {
        "id": "nxswn1UuBZSJ"
      },
      "execution_count": null,
      "outputs": []
    },
    {
      "cell_type": "code",
      "source": [
        "def evalVRP(individual):\n",
        "  total_distance = 0;\n",
        "  distances = []\n",
        "  for i in range(num_vehicles):\n",
        "    vehicle_route = [depot] + [locations[individual[j]] for j in range(i, len(individual), num_vehicles)] + [depot]\n",
        "    vehicle_distance = sum(np.linalg.norm(np.array(vehicle_route[k+1]) - np.array(vehicle_route[k])) for k in range(len(vehicle_route)-1))\n",
        "    total_distance += vehicle_distance\n",
        "    distances.append(vehicle_distance)\n",
        "  balance_penalty = np.std(distances)\n",
        "  return total_distance, balance_penalty"
      ],
      "metadata": {
        "id": "Gx2RKu2ZBZVq"
      },
      "execution_count": null,
      "outputs": []
    },
    {
      "cell_type": "code",
      "source": [
        "# Genetic Operators\n",
        "toolbox.register(\"evaluate\", evalVRP)\n",
        "toolbox.register(\"mate\", tools.cxPartialyMatched)\n",
        "toolbox.register(\"mutate\", tools.mutShuffleIndexes, indpb = 0.05)\n",
        "toolbox.register(\"select\", tools.selTournament, tournsize = 3)"
      ],
      "metadata": {
        "id": "La0Jr30_BZd2"
      },
      "execution_count": null,
      "outputs": []
    },
    {
      "cell_type": "code",
      "source": [
        "def plot_routes(individual, title = \"Routes\"):\n",
        "  plt.figure()\n",
        "  for (x, y) in locations:\n",
        "    plt.plot(x, y, 'bo')\n",
        "  plt.plot(depot[0], depot[1], 'rs')\n",
        "\n",
        "  for i in range(num_vehicles):\n",
        "    vehicle_route = [depot] + [locations[individual[j]] for j in range(i, len(individual), num_vehicles)] + [depot]\n",
        "    plt.plot(*zip(*vehicle_route), '-')\n",
        "\n",
        "  plt.title(title)\n",
        "  plt.xlabel('X Coordinate')\n",
        "  plt.ylabel('Y Coordinate')\n",
        "  plt.show()"
      ],
      "metadata": {
        "id": "21BQu1rhBZhN"
      },
      "execution_count": null,
      "outputs": []
    },
    {
      "cell_type": "code",
      "source": [
        "# Running the Genetic Algorithm\n",
        "def main():\n",
        "  random.seed(42)\n",
        "  pop = toolbox.population(n = 300)\n",
        "  hof = tools.HallOfFame(1)\n",
        "\n",
        "  stats = tools.Statistics(lambda ind: ind.fitness.values)\n",
        "  stats.register(\"avg\", np.mean)\n",
        "  stats.register(\"min\", np.min)\n",
        "\n",
        "  algorithms.eaSimple(pop, toolbox, 0.7, 0.2, 300, stats = stats, halloffame = hof)\n",
        "\n",
        "  plot_routes(hof[0], \"Optimal Route\")\n",
        "  return pop, stats, hof"
      ],
      "metadata": {
        "id": "qgctOBUxBZlD"
      },
      "execution_count": null,
      "outputs": []
    },
    {
      "cell_type": "code",
      "source": [
        "if __name__ == \"__main__\":\n",
        "  main()"
      ],
      "metadata": {
        "id": "lOliPA-vBZpD",
        "colab": {
          "base_uri": "https://localhost:8080/",
          "height": 1000
        },
        "outputId": "c7994095-27ae-490c-ff4b-25549f1febde"
      },
      "execution_count": null,
      "outputs": [
        {
          "output_type": "stream",
          "name": "stdout",
          "text": [
            "gen\tnevals\tavg    \tmin    \n",
            "0  \t300   \t616.771\t4.21771\n",
            "1  \t213   \t596.863\t1.67715\n",
            "2  \t243   \t589.639\t1.67715\n",
            "3  \t232   \t580.213\t1.03374\n",
            "4  \t233   \t572.673\t3.7028 \n",
            "5  \t218   \t566.929\t3.39833\n",
            "6  \t213   \t560.563\t2.59799\n",
            "7  \t233   \t554.988\t4.58346\n",
            "8  \t219   \t553.078\t4.10251\n",
            "9  \t209   \t540.128\t4.9502 \n",
            "10 \t224   \t535.841\t3.49718\n",
            "11 \t230   \t533.838\t6.70831\n",
            "12 \t230   \t523.173\t2.54458\n",
            "13 \t217   \t501.878\t4.3941 \n",
            "14 \t231   \t493.874\t6.46787\n",
            "15 \t250   \t474.631\t3.34419\n",
            "16 \t238   \t455.335\t2.74793\n",
            "17 \t236   \t443.862\t1.88814\n",
            "18 \t225   \t435.279\t7.03221\n",
            "19 \t225   \t424.666\t5.0122 \n",
            "20 \t209   \t415.195\t11.5033\n",
            "21 \t232   \t409.896\t4.84934\n",
            "22 \t237   \t404.814\t14.5217\n",
            "23 \t217   \t404.827\t7.04721\n",
            "24 \t227   \t399.859\t13.0876\n",
            "25 \t246   \t395.327\t23.1486\n",
            "26 \t233   \t386.927\t23.9331\n",
            "27 \t219   \t380.977\t15.92  \n",
            "28 \t229   \t376.961\t13.0301\n",
            "29 \t223   \t368.663\t3.02226\n",
            "30 \t238   \t363.137\t14.1085\n",
            "31 \t225   \t356.385\t21.7805\n",
            "32 \t221   \t356.304\t4.14977\n",
            "33 \t243   \t347.99 \t5.23442\n",
            "34 \t232   \t346.392\t12.3873\n",
            "35 \t244   \t345.832\t5.23442\n",
            "36 \t233   \t347.979\t5.15777\n",
            "37 \t217   \t344.679\t12.8743\n",
            "38 \t239   \t346.784\t13.7932\n",
            "39 \t229   \t343.659\t19.5492\n",
            "40 \t214   \t344.371\t16.8812\n",
            "41 \t241   \t342.967\t7.81632\n",
            "42 \t249   \t345.882\t7.62661\n",
            "43 \t226   \t343.96 \t3.496  \n",
            "44 \t241   \t338.596\t18.9953\n",
            "45 \t232   \t344.096\t13.335 \n",
            "46 \t236   \t342.718\t24.9403\n",
            "47 \t228   \t340.472\t24.7144\n",
            "48 \t232   \t344.921\t13.5903\n",
            "49 \t236   \t344.32 \t16.0305\n",
            "50 \t220   \t340.989\t12.0433\n",
            "51 \t219   \t345.81 \t7.66304\n",
            "52 \t229   \t341.756\t13.4606\n",
            "53 \t247   \t339.656\t6.80623\n",
            "54 \t225   \t342.111\t6.33742\n",
            "55 \t220   \t339.399\t13.4574\n",
            "56 \t223   \t342.982\t7.30632\n",
            "57 \t230   \t342.115\t2.08372\n",
            "58 \t215   \t340.032\t9.46681\n",
            "59 \t211   \t341.399\t1.23883\n",
            "60 \t232   \t341.44 \t5.34606\n",
            "61 \t237   \t341.44 \t8.29633\n",
            "62 \t223   \t334.086\t11.882 \n",
            "63 \t223   \t341.571\t14.8245\n",
            "64 \t237   \t338.125\t8.86154\n",
            "65 \t215   \t333.721\t20.0152\n",
            "66 \t240   \t340.188\t13.313 \n",
            "67 \t210   \t339.708\t20.2816\n",
            "68 \t229   \t334.926\t14.741 \n",
            "69 \t225   \t337.517\t18.299 \n",
            "70 \t230   \t334.608\t22.4752\n",
            "71 \t226   \t341.249\t5.3671 \n",
            "72 \t248   \t339.073\t14.4067\n",
            "73 \t220   \t339.584\t21.5662\n",
            "74 \t214   \t336.293\t22.4752\n",
            "75 \t224   \t336.233\t8.85618\n",
            "76 \t224   \t339.544\t22.466 \n",
            "77 \t219   \t333.923\t12.0721\n",
            "78 \t230   \t338.043\t8.85618\n",
            "79 \t241   \t338.606\t20.408 \n",
            "80 \t242   \t338.4  \t9.18913\n",
            "81 \t236   \t339.525\t18.2526\n",
            "82 \t212   \t333.879\t5.09646\n",
            "83 \t216   \t338.136\t20.3261\n",
            "84 \t235   \t336.191\t16.1322\n",
            "85 \t209   \t338.657\t26.2409\n",
            "86 \t232   \t337.323\t9.50481\n",
            "87 \t224   \t337.436\t18.3158\n",
            "88 \t257   \t340.637\t17.6745\n",
            "89 \t215   \t335.945\t12.5907\n",
            "90 \t224   \t337.355\t22.9783\n",
            "91 \t223   \t338.386\t22.4432\n",
            "92 \t229   \t334.142\t21.4719\n",
            "93 \t226   \t335.346\t18.0895\n",
            "94 \t235   \t333.489\t22.5584\n",
            "95 \t231   \t334.966\t10.4353\n",
            "96 \t226   \t333.571\t7.16977\n",
            "97 \t229   \t332.323\t19.5299\n",
            "98 \t217   \t336.893\t12.7759\n",
            "99 \t237   \t338.841\t21.2777\n",
            "100\t234   \t336.642\t18.8859\n",
            "101\t213   \t336.932\t20.8214\n",
            "102\t211   \t339.415\t5.08804\n",
            "103\t225   \t333.533\t25.3062\n",
            "104\t224   \t334.289\t13.5003\n",
            "105\t205   \t331.203\t15.9072\n",
            "106\t200   \t334.251\t19.6105\n",
            "107\t239   \t334.077\t14.7848\n",
            "108\t219   \t332.391\t26.362 \n",
            "109\t227   \t333.464\t8.81301\n",
            "110\t226   \t333.319\t8.81301\n",
            "111\t250   \t335.509\t11.6994\n",
            "112\t219   \t335.152\t11.6994\n",
            "113\t239   \t334.262\t8.81301\n",
            "114\t231   \t333.516\t8.81301\n",
            "115\t223   \t335.777\t8.81301\n",
            "116\t251   \t335.968\t11.6225\n",
            "117\t233   \t331.053\t22.3515\n",
            "118\t217   \t334.94 \t11.6994\n",
            "119\t220   \t329.081\t7.15889\n",
            "120\t221   \t334.703\t5.24021\n",
            "121\t224   \t341.143\t14.03  \n",
            "122\t232   \t331.136\t19.6955\n",
            "123\t232   \t336.266\t5.43299\n",
            "124\t220   \t336.531\t8.81301\n",
            "125\t231   \t333.448\t20.8214\n",
            "126\t236   \t337.313\t3.24167\n",
            "127\t222   \t336.536\t18.8859\n",
            "128\t230   \t333.602\t21.9578\n",
            "129\t243   \t332.382\t16.8029\n",
            "130\t224   \t332.482\t13.007 \n",
            "131\t218   \t334.936\t11.8755\n",
            "132\t228   \t337.421\t11.6994\n",
            "133\t235   \t334.46 \t16.3019\n",
            "134\t233   \t337.652\t19.6696\n",
            "135\t207   \t335.051\t14.5149\n",
            "136\t227   \t335.894\t8.81301\n",
            "137\t235   \t335.458\t8.60244\n",
            "138\t217   \t335.917\t12.022 \n",
            "139\t234   \t334.182\t1.70952\n",
            "140\t222   \t333.443\t8.33259\n",
            "141\t222   \t334.51 \t20.8214\n",
            "142\t208   \t336.273\t8.81301\n",
            "143\t240   \t338.076\t11.188 \n",
            "144\t223   \t332.927\t16.8029\n",
            "145\t232   \t335.756\t28.2656\n",
            "146\t236   \t337.828\t10.6941\n",
            "147\t232   \t334.723\t11.6994\n",
            "148\t235   \t334.202\t28.1034\n",
            "149\t218   \t332.223\t23.1674\n",
            "150\t229   \t333.495\t9.41252\n",
            "151\t235   \t333.93 \t18.4709\n",
            "152\t220   \t334.298\t19.6696\n",
            "153\t249   \t334.25 \t6.53685\n",
            "154\t230   \t337.556\t16.8029\n",
            "155\t215   \t332.668\t11.6994\n",
            "156\t233   \t334.612\t14.739 \n",
            "157\t220   \t335.553\t13.2423\n",
            "158\t210   \t333.674\t18.1533\n",
            "159\t227   \t335.733\t9.43629\n",
            "160\t225   \t334.009\t7.16977\n",
            "161\t231   \t335.358\t15.2337\n",
            "162\t223   \t333.622\t10.9175\n",
            "163\t221   \t332.848\t8.81301\n",
            "164\t219   \t331.73 \t7.39229\n",
            "165\t240   \t337.619\t5.58112\n",
            "166\t228   \t333.193\t17.3191\n",
            "167\t220   \t338.146\t10.8328\n",
            "168\t228   \t334.54 \t18.8859\n",
            "169\t227   \t332.037\t15.2278\n",
            "170\t219   \t332.811\t11.7608\n",
            "171\t231   \t334.117\t15.8993\n",
            "172\t214   \t333.605\t19.6696\n",
            "173\t226   \t338.442\t4.78242\n",
            "174\t231   \t338.068\t6.90062\n",
            "175\t224   \t338.771\t8.81301\n",
            "176\t235   \t336.699\t18.0616\n",
            "177\t233   \t334.562\t15.1127\n",
            "178\t225   \t333.439\t14.5149\n",
            "179\t203   \t334.504\t8.81301\n",
            "180\t237   \t333.884\t7.75994\n",
            "181\t221   \t338.65 \t20.8214\n",
            "182\t220   \t336.286\t15.5631\n",
            "183\t239   \t335.263\t8.81301\n",
            "184\t215   \t334.727\t11.6994\n",
            "185\t230   \t337.087\t7.61108\n",
            "186\t225   \t333.868\t8.81301\n",
            "187\t223   \t336.379\t8.81301\n",
            "188\t234   \t332.887\t11.6994\n",
            "189\t205   \t333.089\t11.5043\n",
            "190\t215   \t334.447\t11.4457\n",
            "191\t227   \t333.655\t11.6994\n",
            "192\t214   \t335.551\t6.6388 \n",
            "193\t219   \t335.233\t14.03  \n",
            "194\t222   \t332.444\t8.81301\n",
            "195\t220   \t335.255\t19.0912\n",
            "196\t228   \t334.038\t11.6994\n",
            "197\t195   \t334.619\t8.81301\n",
            "198\t238   \t333.832\t5.09552\n",
            "199\t218   \t331.728\t20.8214\n",
            "200\t216   \t333.188\t3.85264\n",
            "201\t238   \t333.564\t15.5398\n",
            "202\t232   \t336.301\t13.9973\n",
            "203\t238   \t335.635\t13.6699\n",
            "204\t227   \t330.867\t13.4867\n",
            "205\t233   \t332.448\t21.4719\n",
            "206\t226   \t332.621\t15.8386\n",
            "207\t228   \t332.502\t11.3171\n",
            "208\t231   \t328.717\t11.3171\n",
            "209\t226   \t330.593\t11.8433\n",
            "210\t223   \t329.114\t2.57029\n",
            "211\t214   \t323.888\t21.2867\n",
            "212\t215   \t328.49 \t34.2997\n",
            "213\t224   \t327.596\t4.67215\n",
            "214\t226   \t328.492\t8.98483\n",
            "215\t237   \t326.681\t19.5483\n",
            "216\t212   \t326.367\t10.7333\n",
            "217\t218   \t323.91 \t16.9821\n",
            "218\t231   \t328.848\t11.1916\n",
            "219\t225   \t331.589\t10.7333\n",
            "220\t228   \t331.319\t12.1916\n",
            "221\t237   \t329.92 \t11.3171\n",
            "222\t225   \t329.103\t9.70925\n",
            "223\t219   \t324.329\t18.7716\n",
            "224\t218   \t324.877\t6.95313\n",
            "225\t234   \t324.575\t15.4393\n",
            "226\t230   \t327.24 \t12.5848\n",
            "227\t235   \t326.431\t23.3426\n",
            "228\t227   \t329.181\t13.7923\n",
            "229\t234   \t330.601\t10.5049\n",
            "230\t234   \t324.439\t10.8015\n",
            "231\t237   \t332.577\t12.6488\n",
            "232\t229   \t325.641\t16.5583\n",
            "233\t231   \t326.009\t11.4375\n",
            "234\t219   \t326.496\t10.5049\n",
            "235\t216   \t323.845\t26.0721\n",
            "236\t229   \t325.585\t10.8436\n",
            "237\t239   \t328.662\t13.2212\n",
            "238\t228   \t325.446\t12.5848\n",
            "239\t238   \t328.223\t6.6026 \n",
            "240\t225   \t331.069\t2.71525\n",
            "241\t219   \t325.983\t11.4185\n",
            "242\t231   \t327.312\t11.0858\n",
            "243\t218   \t325.333\t11.9133\n",
            "244\t227   \t326.831\t20.2769\n",
            "245\t208   \t326.766\t19.0152\n",
            "246\t210   \t327.256\t14.9923\n",
            "247\t217   \t324.619\t23.5601\n",
            "248\t239   \t324.988\t11.727 \n",
            "249\t227   \t328.315\t22.9313\n",
            "250\t223   \t324.249\t10.5049\n",
            "251\t239   \t325.692\t7.60471\n",
            "252\t232   \t331.277\t4.56858\n",
            "253\t223   \t324.408\t19.0152\n",
            "254\t223   \t323.636\t13.6473\n",
            "255\t215   \t327.383\t17.2318\n",
            "256\t244   \t328.646\t6.6026 \n",
            "257\t227   \t328.355\t11.4375\n",
            "258\t234   \t327.927\t21.6568\n",
            "259\t228   \t327.162\t10.4887\n",
            "260\t218   \t329.421\t10.5049\n",
            "261\t234   \t326.81 \t14.0329\n",
            "262\t223   \t327.13 \t22.9329\n",
            "263\t234   \t329.145\t17.0289\n",
            "264\t240   \t326.522\t10.5049\n",
            "265\t243   \t326.22 \t16.1503\n",
            "266\t232   \t327.657\t10.0503\n",
            "267\t230   \t327.38 \t12.5848\n",
            "268\t225   \t326.864\t5.38147\n",
            "269\t245   \t326.693\t8.5089 \n",
            "270\t234   \t328.02 \t17.7584\n",
            "271\t221   \t323.826\t2.96702\n",
            "272\t231   \t326.9  \t17.0289\n",
            "273\t242   \t324.98 \t9.94342\n",
            "274\t228   \t328.975\t10.4887\n",
            "275\t233   \t327.268\t2.33646\n",
            "276\t214   \t323.561\t6.6026 \n",
            "277\t232   \t330.531\t5.50981\n",
            "278\t232   \t331.034\t17.9527\n",
            "279\t227   \t330.563\t12.102 \n",
            "280\t220   \t326.324\t4.37109\n",
            "281\t216   \t329.025\t4.05236\n",
            "282\t230   \t324.911\t9.86587\n",
            "283\t240   \t325.901\t19.7214\n",
            "284\t235   \t324.114\t12.5848\n",
            "285\t233   \t325.599\t9.29111\n",
            "286\t213   \t326.93 \t11.0696\n",
            "287\t248   \t328.763\t6.6026 \n",
            "288\t231   \t327.471\t13.2186\n",
            "289\t216   \t325.205\t10.2875\n",
            "290\t228   \t329.203\t6.6026 \n",
            "291\t231   \t324.961\t14.6603\n",
            "292\t233   \t331.121\t20.9013\n",
            "293\t240   \t325.481\t8.64177\n",
            "294\t225   \t325.739\t3.50718\n",
            "295\t242   \t325.302\t6.6026 \n",
            "296\t244   \t328.212\t8.18772\n",
            "297\t228   \t327.623\t6.6026 \n",
            "298\t212   \t324.932\t11.4375\n",
            "299\t219   \t325.921\t15.2886\n",
            "300\t236   \t328.942\t10.0464\n"
          ]
        },
        {
          "output_type": "display_data",
          "data": {
            "text/plain": [
              "<Figure size 640x480 with 1 Axes>"
            ],
            "image/png": "[encoded data removed]"
          },
          "metadata": {}
        }
      ]
    },
    {
      "cell_type": "code",
      "source": [],
      "metadata": {
        "id": "rF5tB7pJBZtS"
      },
      "execution_count": null,
      "outputs": []
    },
    {
      "cell_type": "code",
      "source": [],
      "metadata": {
        "id": "vm80IXsUBZxj"
      },
      "execution_count": null,
      "outputs": []
    },
    {
      "cell_type": "code",
      "source": [],
      "metadata": {
        "id": "7ag3U5KdBZ1A"
      },
      "execution_count": null,
      "outputs": []
    },
    {
      "cell_type": "code",
      "source": [],
      "metadata": {
        "id": "HAg3NNELBZ5n"
      },
      "execution_count": null,
      "outputs": []
    },
    {
      "cell_type": "code",
      "source": [],
      "metadata": {
        "id": "WPEqI6CyBZ9c"
      },
      "execution_count": null,
      "outputs": []
    }
  ]
}